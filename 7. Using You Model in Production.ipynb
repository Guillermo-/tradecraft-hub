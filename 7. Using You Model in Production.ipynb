{
 "cells": [
  {
   "cell_type": "code",
   "execution_count": null,
   "id": "adjusted-destiny",
   "metadata": {},
   "outputs": [],
   "source": [
    "import sklearn\n",
    "from sklearn import datasets\n",
    "from sklearn import model_selection\n",
    "from sklearn.tree import DecisionTreeClassifier\n",
    "import pandas\n",
    "import seaborn\n",
    "import matplotlib.pyplot as plt\n",
    "from sklearn import tree\n",
    "from sklearn.metrics import plot_confusion_matrix"
   ]
  },
  {
   "cell_type": "code",
   "execution_count": null,
   "id": "absolute-essence",
   "metadata": {},
   "outputs": [],
   "source": [
    "data, labels = datasets.make_classification(n_samples=1000,                                                                              n_features=5, n_classes=2, n_informative=3, n_redundant=0, n_repeated=0, random_state=7)"
   ]
  },
  {
   "cell_type": "code",
   "execution_count": null,
   "id": "incredible-heavy",
   "metadata": {},
   "outputs": [],
   "source": [
    "df_data = pandas.DataFrame(data, columns=['comms', 'remote access', 'weather', 'external partners', 'physical access'])\n",
    "df_labels = pandas.DataFrame(labels, columns=['go/no-go criterion']) # go=0, no-go=1\n",
    "dataset = pandas.concat([df_data, df_labels], axis=1)  # put observations and label data together\n",
    "# dataset.head()  # view some of the data for sanity check\n",
    "\n",
    "data_train, data_test, labels_train, labels_test = model_selection.train_test_split(df_data, df_labels, test_size=0.2, random_state=7)\n",
    "\n",
    "my_decision_tree = DecisionTreeClassifier(criterion='entropy', random_state=7)\n",
    "\n",
    "my_decision_tree.fit(X=data_train, y=labels_train)\n",
    "avg_accuracy = my_decision_tree.score(X=data_test, y=labels_test)\n",
    "print('Average Accuracy: {}%'.format(avg_accuracy * 100))\n",
    "\n",
    "plt.figure(figsize=(16,10))\n",
    "tree.plot_tree(my_decision_tree, feature_names=data_train.columns, class_names=['go', 'no-go'], filled=True, proportion=True)\n",
    "plt.show()"
   ]
  },
  {
   "cell_type": "code",
   "execution_count": null,
   "id": "understanding-hawaiian",
   "metadata": {},
   "outputs": [],
   "source": [
    "situation = {'comms': -0.004811, \n",
    "             'remote access': -0.558854, \n",
    "             'weather': 0.047897, \n",
    "             'external partners': -0.006553, \n",
    "             'physical access': 0.022978} \n",
    "\n",
    "data = pandas.DataFrame(situation, index=['situation'])\n",
    "data"
   ]
  },
  {
   "cell_type": "code",
   "execution_count": null,
   "id": "ambient-making",
   "metadata": {},
   "outputs": [],
   "source": [
    "my_decision_tree.predict(data)"
   ]
  },
  {
   "cell_type": "code",
   "execution_count": null,
   "id": "monetary-bernard",
   "metadata": {},
   "outputs": [],
   "source": [
    "def ml_advice(model, situation:dict):\n",
    "    data = pandas.DataFrame(situation, index=['situation'])\n",
    "    advice = model.predict(data)\n",
    "    if advice == 0:\n",
    "        return 'Lets Gooooooooooo!'\n",
    "    if advice == 1:\n",
    "        return 'I advise a No-go based on the numbers'\n",
    "    else:\n",
    "        return 'I dont know'"
   ]
  },
  {
   "cell_type": "code",
   "execution_count": null,
   "id": "equipped-intelligence",
   "metadata": {},
   "outputs": [],
   "source": [
    "ml_advice(my_decision_tree, situation)"
   ]
  },
  {
   "cell_type": "markdown",
   "id": "thermal-investing",
   "metadata": {},
   "source": [
    "## You can experiment with feature values to see the model advise differently"
   ]
  },
  {
   "cell_type": "code",
   "execution_count": null,
   "id": "fancy-brooklyn",
   "metadata": {},
   "outputs": [],
   "source": [
    "# In training the values ranged from -5.0 to 5.0\n",
    "situation = {'comms': -0.004811, \n",
    "             'remote access': -0.558854, \n",
    "             'weather': 0.047897, \n",
    "             'external partners': -0.006553, \n",
    "             'physical access': 0.022978} \n",
    "\n",
    "ml_advice(my_decision_tree, situation)"
   ]
  },
  {
   "cell_type": "code",
   "execution_count": null,
   "id": "cubic-filing",
   "metadata": {},
   "outputs": [],
   "source": []
  }
 ],
 "metadata": {
  "kernelspec": {
   "display_name": "Python 3",
   "language": "python",
   "name": "python3"
  },
  "language_info": {
   "codemirror_mode": {
    "name": "ipython",
    "version": 3
   },
   "file_extension": ".py",
   "mimetype": "text/x-python",
   "name": "python",
   "nbconvert_exporter": "python",
   "pygments_lexer": "ipython3",
   "version": "3.8.3"
  }
 },
 "nbformat": 4,
 "nbformat_minor": 5
}
